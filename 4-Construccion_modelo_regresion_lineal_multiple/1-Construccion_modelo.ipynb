{
 "cells": [
  {
   "cell_type": "markdown",
   "id": "49ba59d2",
   "metadata": {},
   "source": [
    "# Creacion del modelo de regresion lineal multiple\n",
    "\n",
    "En este notebook nos centraremos en crear el modelo de regresion lineal multiple y evaluar sus metricas "
   ]
  },
  {
   "cell_type": "code",
   "execution_count": 1,
   "id": "3c6e0dff",
   "metadata": {},
   "outputs": [],
   "source": [
    "import pandas as pd\n",
    "from sklearn.model_selection import train_test_split\n",
    "from sklearn.linear_model import LinearRegression\n",
    "from sklearn.metrics import r2_score, mean_absolute_error, mean_squared_error\n",
    "import numpy as np\n",
    "import statsmodels.api as sm\n",
    "\n",
    "df_laptops = pd.read_csv(\"data/df_model_ready.csv\")"
   ]
  },
  {
   "cell_type": "code",
   "execution_count": 2,
   "id": "233b4a41",
   "metadata": {},
   "outputs": [
    {
     "name": "stdout",
     "output_type": "stream",
     "text": [
      "\n",
      "Aplicando One-Hot Encoding a las variables categóricas...\n",
      "Dimensiones del DataFrame después de One-Hot Encoding: (1275, 53)\n",
      "\n",
      "Número de características finales para el modelo: 52\n",
      "Tamaño del conjunto de entrenamiento: 1020 muestras\n",
      "Tamaño del conjunto de prueba: 255 muestras\n",
      "\n",
      "Entrenando el modelo de Regresión Lineal Múltiple...\n",
      "Modelo entrenado exitosamente.\n"
     ]
    }
   ],
   "source": [
    "# Definimos las variables predictoras y la variable objetivo\n",
    "# Variables numéricas ya transformadas con Box-Cox\n",
    "numerical_boxcox_features = [\n",
    "    'Inches_BoxCox', 'Ram_BoxCox', 'Weight_BoxCox', 'CPU_freq_BoxCox',\n",
    "    'PrimaryStorage_BoxCox', 'SecondaryStorage_BoxCox', 'ScreenPixels_BoxCox'\n",
    "]\n",
    "\n",
    "# Variables binarias\n",
    "binary_features = [\n",
    "    'Touchscreen', 'IPSpanel', 'RetinaDisplay'\n",
    "]\n",
    "\n",
    "# Variables categóricas\n",
    "categorical_features = [\n",
    "    'Company', 'TypeName', 'OS', 'PrimaryStorageType',\n",
    "    'SecondaryStorageType', 'CPU_company', 'GPU_company'\n",
    "]\n",
    "\n",
    "# Variable objetivo\n",
    "target_variable = 'Price_euros_BoxCox'\n",
    "\n",
    "# Combinamos todas las características predictoras\n",
    "all_features = numerical_boxcox_features + binary_features + categorical_features\n",
    "\n",
    "# Manejamos las variables categóricas con One-Hot Encoding\n",
    "print(\"\\nAplicando One-Hot Encoding a las variables categóricas...\")\n",
    "df_encoded = pd.get_dummies(df_laptops, columns=categorical_features, drop_first=True) # drop_first para evitar multicolinealidad perfecta\n",
    "print(f\"Dimensiones del DataFrame después de One-Hot Encoding: {df_encoded.shape}\")\n",
    "\n",
    "# Separamos X (features) e y (target)\n",
    "X = df_encoded.drop(columns=[target_variable])\n",
    "y = df_encoded[target_variable]\n",
    "\n",
    "# Aseguramos de que no haya columnas con todos ceros o nulos después del encoding si drop_first=False\n",
    "# (aunque drop_first=True ya ayuda a mitigar esto para la multicolinealidad perfecta)\n",
    "X = X.loc[:, (X != 0).any(axis=0)] # Eliminar columnas si todas son cero\n",
    "X = X.dropna(axis=1) # Eliminar columnas si contienen NaN (raro después de get_dummies si la entrada no tenía NaN)\n",
    "\n",
    "print(f\"\\nNúmero de características finales para el modelo: {X.shape[1]}\")\n",
    "\n",
    "# Dividimos los datos en conjuntos de entrenamiento y prueba\n",
    "X_train, X_test, y_train, y_test = train_test_split(X, y, test_size=0.2, random_state=42)\n",
    "print(f\"Tamaño del conjunto de entrenamiento: {X_train.shape[0]} muestras\")\n",
    "print(f\"Tamaño del conjunto de prueba: {X_test.shape[0]} muestras\")\n",
    "\n",
    "# Entrenamos un modelo de Regresión Lineal Múltiple\n",
    "print(\"\\nEntrenando el modelo de Regresión Lineal Múltiple...\")\n",
    "model = LinearRegression()\n",
    "model.fit(X_train, y_train)\n",
    "print(\"Modelo entrenado exitosamente.\")"
   ]
  },
  {
   "cell_type": "code",
   "execution_count": 3,
   "id": "b3079198",
   "metadata": {},
   "outputs": [
    {
     "name": "stdout",
     "output_type": "stream",
     "text": [
      "\n",
      "# Métricas de Evaluación del Modelo de Regresión Lineal\n",
      "\n",
      "| Métrica                                  | Entrenamiento | Prueba        |\n",
      "| :--------------------------------------- | ------------: | ------------: |\n",
      "| R-cuadrado (R²)                          |        0.8365 |        0.8094 |\n",
      "| R-cuadrado Ajustado (R²_adj)             |        0.8277 |        0.7603 |\n",
      "| Error Absoluto Medio (MAE)               |        0.4394 |        0.4717 |\n",
      "| Error Cuadrático Medio (MSE)             |        0.3195 |        0.3297 |\n",
      "| Raíz del Error Cuadrático Medio (RMSE)   |        0.5652 |        0.5742 |\n"
     ]
    }
   ],
   "source": [
    "# Evaluamos el rendimiento del modelo en el conjunto de ENTRENAMIENTO \n",
    "y_pred_train = model.predict(X_train)\n",
    "\n",
    "r2_train = r2_score(y_train, y_pred_train)\n",
    "mae_train = mean_absolute_error(y_train, y_pred_train)\n",
    "mse_train = mean_squared_error(y_train, y_pred_train)\n",
    "rmse_train = np.sqrt(mse_train)\n",
    "\n",
    "n_train = len(y_train)\n",
    "k_train = X_train.shape[1] # Número de variables predictoras en el conjunto de entrenamiento\n",
    "\n",
    "r2_adjusted_train = np.nan # Inicializamos a NaN por si no se puede calcular\n",
    "if n_train - k_train - 1 > 0:\n",
    "    r2_adjusted_train = 1 - ((1 - r2_train) * (n_train - 1)) / (n_train - k_train - 1)\n",
    "else:\n",
    "    print(\"Advertencia: No se puede calcular el R-cuadrado ajustado para entrenamiento (n - k - 1 <= 0).\")\n",
    "\n",
    "\n",
    "# Evaluamos el rendimiento del modelo en el conjunto de PRUEBA ---\n",
    "y_pred_test = model.predict(X_test)\n",
    "\n",
    "r2_test = r2_score(y_test, y_pred_test)\n",
    "mae_test = mean_absolute_error(y_test, y_pred_test)\n",
    "mse_test = mean_squared_error(y_test, y_pred_test)\n",
    "rmse_test = np.sqrt(mse_test)\n",
    "\n",
    "n_test = len(y_test)\n",
    "k_test = X_test.shape[1]\n",
    "\n",
    "r2_adjusted_test = np.nan # Inicializamos a NaN por si no se puede calcular\n",
    "if n_test - k_test - 1 > 0:\n",
    "    r2_adjusted_test = 1 - ((1 - r2_test) * (n_test - 1)) / (n_test - k_test - 1)\n",
    "else:\n",
    "    print(\"Advertencia: No se puede calcular el R-cuadrado ajustado para prueba (n - k - 1 <= 0).\")\n",
    "\n",
    "\n",
    "# --- Imprimimos la tabla de métricas en formato Markdown con alineación mejorada ---\n",
    "print(\"\\n# Métricas de Evaluación del Modelo de Regresión Lineal\\n\")\n",
    "print(\"| Métrica                                  | Entrenamiento | Prueba        |\")\n",
    "print(\"| :--------------------------------------- | ------------: | ------------: |\") # Alineamos métricas a la izquierda, valores a la derecha\n",
    "\n",
    "# Usamos f-strings con padding para asegurar la alineación de las columnas:\n",
    "# {:<40} -> Columna de Métrica: 40 caracteres de ancho, alineada a la izquierda\n",
    "# {:>13.4f} -> Columnas de valores: 13 caracteres de ancho, alineada a la derecha, con 4 decimales\n",
    "print(f\"| {'R-cuadrado (R²)':<40} | {r2_train:>13.4f} | {r2_test:>13.4f} |\")\n",
    "print(f\"| {'R-cuadrado Ajustado (R²_adj)':<40} | {r2_adjusted_train:>13.4f} | {r2_adjusted_test:>13.4f} |\")\n",
    "print(f\"| {'Error Absoluto Medio (MAE)':<40} | {mae_train:>13.4f} | {mae_test:>13.4f} |\")\n",
    "print(f\"| {'Error Cuadrático Medio (MSE)':<40} | {mse_train:>13.4f} | {mse_test:>13.4f} |\")\n",
    "print(f\"| {'Raíz del Error Cuadrático Medio (RMSE)':<40} | {rmse_train:>13.4f} | {rmse_test:>13.4f} |\")"
   ]
  },
  {
   "cell_type": "markdown",
   "id": "c3ccf898",
   "metadata": {},
   "source": [
    "Gracias a la tabla anterior si bien el $R^2$ y el $R^2$ ajutado son altos quiero encotrar la forma de ver si puedo incrementar el valor de los mismos esto lo veremos en el siguiente notebook\n",
    "\n"
   ]
  }
 ],
 "metadata": {
  "kernelspec": {
   "display_name": "base",
   "language": "python",
   "name": "python3"
  },
  "language_info": {
   "codemirror_mode": {
    "name": "ipython",
    "version": 3
   },
   "file_extension": ".py",
   "mimetype": "text/x-python",
   "name": "python",
   "nbconvert_exporter": "python",
   "pygments_lexer": "ipython3",
   "version": "3.12.7"
  }
 },
 "nbformat": 4,
 "nbformat_minor": 5
}
