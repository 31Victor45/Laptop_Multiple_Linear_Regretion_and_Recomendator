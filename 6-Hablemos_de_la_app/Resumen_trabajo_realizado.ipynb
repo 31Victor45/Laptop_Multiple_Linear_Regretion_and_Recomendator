{
 "cells": [
  {
   "cell_type": "markdown",
   "id": "29e1d55f",
   "metadata": {},
   "source": [
    "# Hablemos de la app\n",
    "\n",
    "Este jupiter es un tanto mas personal y quiero comentar en el acerca de la aplicacion. \n",
    "\n",
    "La idea inicial de la app era como se muestra en la imagen crear un modelo de regresion lineal multiple para dadas unas determinadas caracteristicas insertadas por un usuario, el modelo pudiera predecir el precio de una laptop\n",
    "\n",
    "<center><img src=\"img/info1.png\" width=\"900\" height=\"350\">  </center>\n",
    "\n",
    "Cabe mencionar que para el modelo se usaron 3 tipos de variables distintas:\n",
    "- Las variables numericas: estas fueron las que recibieron la trasfomacion Box-Cox \n",
    "- Las variables binarias: estas originalmente eran Yes/No pero pasaron a ser 1/0\n",
    "- Las variables categoricas: estas fueron codificadas usando One-Hot coding\n",
    "\n",
    "Sin embargo dado que el $R^2$ fue de aproximadamente 0.83 y a mi me ubice gustado que el mismo fuese mayor a 0.90 decidi que, de manera complementaria, aplicar el algorimo de la similitud del coseno para que una vez se predijera el precio junto con las demas caracteristicas devolver una tabla al usuario con recomedaciones (las laptops mas parecidas que pudo encontrar en el dataset) y agregarle a esto la posibilidad de que el usuario pudiese escojer que caracteristicas concideraba de mayor importancia y esto influenciara a su vez a la tabla de recomendaciones\n",
    "\n",
    "<center><img src=\"img/info2.png\" width=\"900\" height=\"350\">  </center>\n",
    "\n",
    "Espero que el proyecto haya sido de tu agrado y muchas gracias si llegastes hasta aqui"
   ]
  }
 ],
 "metadata": {
  "language_info": {
   "name": "python"
  }
 },
 "nbformat": 4,
 "nbformat_minor": 5
}
