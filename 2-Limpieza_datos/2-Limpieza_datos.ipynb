{
 "cells": [
  {
   "cell_type": "markdown",
   "id": "2e4a54c3",
   "metadata": {},
   "source": [
    "# Limpieza de datos\n",
    "\n",
    "En este jupiter nos centraremos en la limpieza de los datos y abordaremos el tratamiento de datos faltantes y nulos en caso de existir"
   ]
  },
  {
   "cell_type": "code",
   "execution_count": 2,
   "id": "dc3629c7",
   "metadata": {},
   "outputs": [],
   "source": [
    "import pandas as pd\n",
    "import numpy as np\n",
    "\n",
    "df_laptops = pd.read_csv(\"dataset/laptop_prices.csv\", encoding='latin-1')"
   ]
  },
  {
   "cell_type": "markdown",
   "id": "4bb21e3b",
   "metadata": {},
   "source": [
    "Vamos a tratar los valores nulos en caso de que existan los mismos y tambien las filas duplicadas"
   ]
  },
  {
   "cell_type": "code",
   "execution_count": 3,
   "id": "47597edb",
   "metadata": {},
   "outputs": [
    {
     "name": "stdout",
     "output_type": "stream",
     "text": [
      "Valores nulos antes de la limpieza:\n",
      "Company                 0\n",
      "Product                 0\n",
      "TypeName                0\n",
      "Inches                  0\n",
      "Ram                     0\n",
      "OS                      0\n",
      "Weight                  0\n",
      "Price_euros             0\n",
      "Screen                  0\n",
      "ScreenW                 0\n",
      "ScreenH                 0\n",
      "Touchscreen             0\n",
      "IPSpanel                0\n",
      "RetinaDisplay           0\n",
      "CPU_company             0\n",
      "CPU_freq                0\n",
      "CPU_model               0\n",
      "PrimaryStorage          0\n",
      "SecondaryStorage        0\n",
      "PrimaryStorageType      0\n",
      "SecondaryStorageType    0\n",
      "GPU_company             0\n",
      "GPU_model               0\n",
      "dtype: int64\n"
     ]
    }
   ],
   "source": [
    "# Verificar valores nulos por columna\n",
    "print(\"Valores nulos antes de la limpieza:\")\n",
    "print(df_laptops.isnull().sum())"
   ]
  },
  {
   "cell_type": "code",
   "execution_count": 5,
   "id": "5dd81946",
   "metadata": {},
   "outputs": [
    {
     "name": "stdout",
     "output_type": "stream",
     "text": [
      "\n",
      "Número de filas duplicadas antes de la limpieza: 0\n"
     ]
    }
   ],
   "source": [
    "print(\"\\nNúmero de filas duplicadas antes de la limpieza: {}\".format(df_laptops.duplicated().sum()))"
   ]
  },
  {
   "cell_type": "markdown",
   "id": "f546430c",
   "metadata": {},
   "source": [
    "Gracias a los codigos anterios vemos que no hay datos faltantes y tampoco filas duplicadas\n",
    "\n",
    "Una vez hecho lo anterior pasemos a darle un tratamiento propio a las columnas del dataset para ellos contemos los valores unicos de las columnas object para tener una mejor base a la hora de decidir que haremos con las mismas"
   ]
  },
  {
   "cell_type": "code",
   "execution_count": 6,
   "id": "36f4015d",
   "metadata": {},
   "outputs": [
    {
     "name": "stdout",
     "output_type": "stream",
     "text": [
      "--- Valores únicos y su conteo para cada columna categórica ---\n",
      "------------------------------------------------------------\n",
      "\n",
      "Columna: 'Company'\n",
      "Company\n",
      "Dell         291\n",
      "Lenovo       289\n",
      "HP           268\n",
      "Asus         152\n",
      "Acer         101\n",
      "MSI           54\n",
      "Toshiba       48\n",
      "Apple         21\n",
      "Samsung        9\n",
      "Razer          7\n",
      "Mediacom       7\n",
      "Microsoft      6\n",
      "Xiaomi         4\n",
      "Vero           4\n",
      "Chuwi          3\n",
      "Google         3\n",
      "Fujitsu        3\n",
      "LG             3\n",
      "Huawei         2\n",
      "Name: count, dtype: int64\n",
      "Número de valores únicos: 19\n",
      "------------------------------------------------------------\n",
      "\n",
      "Columna: 'Product'\n",
      "Product\n",
      "XPS 13                                 30\n",
      "Inspiron 3567                          25\n",
      "250 G6                                 21\n",
      "Vostro 3568                            19\n",
      "Legion Y520-15IKBN                     19\n",
      "                                       ..\n",
      "VivoBook E201NA                         1\n",
      "Ideapad 520-15IKBR                      1\n",
      "Thinkpad X260                           1\n",
      "Rog G752VL-UH71T                        1\n",
      "X553SA-XX031T (N3050/4GB/500GB/W10)     1\n",
      "Name: count, Length: 618, dtype: int64\n",
      "Número de valores únicos: 618\n",
      "------------------------------------------------------------\n",
      "\n",
      "Columna: 'TypeName'\n",
      "TypeName\n",
      "Notebook              707\n",
      "Gaming                205\n",
      "Ultrabook             194\n",
      "2 in 1 Convertible    117\n",
      "Workstation            29\n",
      "Netbook                23\n",
      "Name: count, dtype: int64\n",
      "Número de valores únicos: 6\n",
      "------------------------------------------------------------\n",
      "\n",
      "Columna: 'OS'\n",
      "OS\n",
      "Windows 10      1048\n",
      "No OS             66\n",
      "Linux             58\n",
      "Windows 7         45\n",
      "Chrome OS         27\n",
      "macOS             13\n",
      "Mac OS X           8\n",
      "Windows 10 S       8\n",
      "Android            2\n",
      "Name: count, dtype: int64\n",
      "Número de valores únicos: 9\n",
      "------------------------------------------------------------\n",
      "\n",
      "Columna: 'Screen'\n",
      "Screen\n",
      "Full HD        835\n",
      "Standard       369\n",
      "4K Ultra HD     43\n",
      "Quad HD+        28\n",
      "Name: count, dtype: int64\n",
      "Número de valores únicos: 4\n",
      "------------------------------------------------------------\n",
      "\n",
      "Columna: 'Touchscreen'\n",
      "Touchscreen\n",
      "No     1087\n",
      "Yes     188\n",
      "Name: count, dtype: int64\n",
      "Número de valores únicos: 2\n",
      "------------------------------------------------------------\n",
      "\n",
      "Columna: 'IPSpanel'\n",
      "IPSpanel\n",
      "No     918\n",
      "Yes    357\n",
      "Name: count, dtype: int64\n",
      "Número de valores únicos: 2\n",
      "------------------------------------------------------------\n",
      "\n",
      "Columna: 'RetinaDisplay'\n",
      "RetinaDisplay\n",
      "No     1258\n",
      "Yes      17\n",
      "Name: count, dtype: int64\n",
      "Número de valores únicos: 2\n",
      "------------------------------------------------------------\n",
      "\n",
      "Columna: 'CPU_company'\n",
      "CPU_company\n",
      "Intel      1214\n",
      "AMD          60\n",
      "Samsung       1\n",
      "Name: count, dtype: int64\n",
      "Número de valores únicos: 3\n",
      "------------------------------------------------------------\n",
      "\n",
      "Columna: 'CPU_model'\n",
      "CPU_model\n",
      "Core i5 7200U       193\n",
      "Core i7 7700HQ      147\n",
      "Core i7 7500U       133\n",
      "Core i3 6006U        81\n",
      "Core i7 8550U        73\n",
      "                   ... \n",
      "Core M m3             1\n",
      "E-Series E2-9000      1\n",
      "Core M M3-6Y30        1\n",
      "A6-Series 7310        1\n",
      "A9-Series 9410        1\n",
      "Name: count, Length: 93, dtype: int64\n",
      "Número de valores únicos: 93\n",
      "------------------------------------------------------------\n",
      "\n",
      "Columna: 'PrimaryStorageType'\n",
      "PrimaryStorageType\n",
      "SSD              837\n",
      "HDD              359\n",
      "Flash Storage     71\n",
      "Hybrid             8\n",
      "Name: count, dtype: int64\n",
      "Número de valores únicos: 4\n",
      "------------------------------------------------------------\n",
      "\n",
      "Columna: 'SecondaryStorageType'\n",
      "SecondaryStorageType\n",
      "No        1067\n",
      "HDD        202\n",
      "SSD          4\n",
      "Hybrid       2\n",
      "Name: count, dtype: int64\n",
      "Número de valores únicos: 4\n",
      "------------------------------------------------------------\n",
      "\n",
      "Columna: 'GPU_company'\n",
      "GPU_company\n",
      "Intel     704\n",
      "Nvidia    396\n",
      "AMD       174\n",
      "ARM         1\n",
      "Name: count, dtype: int64\n",
      "Número de valores únicos: 4\n",
      "------------------------------------------------------------\n",
      "\n",
      "Columna: 'GPU_model'\n",
      "GPU_model\n",
      "HD Graphics 620     279\n",
      "HD Graphics 520     181\n",
      "UHD Graphics 620     68\n",
      "GeForce GTX 1050     66\n",
      "GeForce GTX 1060     48\n",
      "                   ... \n",
      "Radeon R5 520         1\n",
      "Radeon R7             1\n",
      "HD Graphics 540       1\n",
      "Radeon 540            1\n",
      "Mali T860 MP4         1\n",
      "Name: count, Length: 110, dtype: int64\n",
      "Número de valores únicos: 110\n",
      "------------------------------------------------------------\n"
     ]
    }
   ],
   "source": [
    "# Lista de columnas categóricas (tipo 'object')\n",
    "categorical_columns = [\n",
    "    'Company',\n",
    "    'Product',\n",
    "    'TypeName',\n",
    "    'OS',\n",
    "    'Screen',\n",
    "    'Touchscreen',\n",
    "    'IPSpanel',\n",
    "    'RetinaDisplay',\n",
    "    'CPU_company',\n",
    "    'CPU_model',\n",
    "    'PrimaryStorageType',\n",
    "    'SecondaryStorageType',\n",
    "    'GPU_company',\n",
    "    'GPU_model'\n",
    "]\n",
    "\n",
    "print(\"--- Valores únicos y su conteo para cada columna categórica ---\")\n",
    "print(\"-\" * 60)\n",
    "\n",
    "for col in categorical_columns:\n",
    "    if col in df_laptops.columns: # Asegurarse de que la columna exista en el DataFrame actual\n",
    "        print(f\"\\nColumna: '{col}'\")\n",
    "        print(df_laptops[col].value_counts())\n",
    "        print(f\"Número de valores únicos: {df_laptops[col].nunique()}\")\n",
    "        print(\"-\" * 60)\n",
    "    else:\n",
    "        print(f\"\\nLa columna '{col}' no se encuentra en el DataFrame actual (puede que haya sido eliminada en un paso anterior).\")\n",
    "        print(\"-\" * 60)"
   ]
  },
  {
   "cell_type": "markdown",
   "id": "b2ed4687",
   "metadata": {},
   "source": [
    "Vamos a descartar del dataset las siguientes variables (columnas) que no concideramos que cumplen los requisitos que buscamos para la creacion de un modelo lineal"
   ]
  },
  {
   "cell_type": "code",
   "execution_count": 7,
   "id": "420c9e5f",
   "metadata": {},
   "outputs": [
    {
     "name": "stdout",
     "output_type": "stream",
     "text": [
      "Columna 'Product' eliminada.\n"
     ]
    }
   ],
   "source": [
    "# Descartamos 'Product' por su alta cardinalidad y poca utilidad directa\n",
    "df_laptops.drop(columns=['Product'], inplace=True)\n",
    "print(\"Columna 'Product' eliminada.\")"
   ]
  },
  {
   "cell_type": "code",
   "execution_count": null,
   "id": "a8e17770",
   "metadata": {},
   "outputs": [
    {
     "name": "stdout",
     "output_type": "stream",
     "text": [
      "Columna 'Screen' eliminada.\n"
     ]
    }
   ],
   "source": [
    "# Descartamos 'Screen' ya que ScreenW y ScreenH son más específicas y numéricas\n",
    "df_laptops.drop(columns=['Screen'], inplace=True)\n",
    "print(\"Columna 'Screen' eliminada.\")"
   ]
  },
  {
   "cell_type": "code",
   "execution_count": null,
   "id": "da16d130",
   "metadata": {},
   "outputs": [
    {
     "name": "stdout",
     "output_type": "stream",
     "text": [
      "Columnas 'CPU_model' y 'GPU_model' eliminadas.\n"
     ]
    }
   ],
   "source": [
    "# Descartamos 'CPU_model' y 'GPU_model' por alta cardinalidad\n",
    "df_laptops.drop(columns=['CPU_model', 'GPU_model'], inplace=True)\n",
    "print(\"Columnas 'CPU_model' y 'GPU_model' eliminadas.\")"
   ]
  },
  {
   "cell_type": "markdown",
   "id": "1250b68d",
   "metadata": {},
   "source": [
    "Ahora convertiremos las columnas binarias que contengan 'Yes' o 'No' a: 0 para 'No' y 1 para 'Yes' "
   ]
  },
  {
   "cell_type": "code",
   "execution_count": null,
   "id": "50580b75",
   "metadata": {},
   "outputs": [
    {
     "name": "stdout",
     "output_type": "stream",
     "text": [
      "Columnas 'Touchscreen', 'IPSpanel', 'RetinaDisplay' convertidas a binario.\n",
      "   Touchscreen  IPSpanel  RetinaDisplay\n",
      "0            0         1              1\n",
      "1            0         0              0\n",
      "2            0         0              0\n",
      "3            0         1              1\n",
      "4            0         1              1\n"
     ]
    }
   ],
   "source": [
    "# Convertimos 'Yes'/'No' a 1/0\n",
    "df_laptops['Touchscreen'] = df_laptops['Touchscreen'].apply(lambda x: 1 if x == 'Yes' else 0)\n",
    "df_laptops['IPSpanel'] = df_laptops['IPSpanel'].apply(lambda x: 1 if x == 'Yes' else 0)\n",
    "df_laptops['RetinaDisplay'] = df_laptops['RetinaDisplay'].apply(lambda x: 1 if x == 'Yes' else 0)\n",
    "\n",
    "print(\"Columnas 'Touchscreen', 'IPSpanel', 'RetinaDisplay' convertidas a binario.\")\n",
    "print(df_laptops[['Touchscreen', 'IPSpanel', 'RetinaDisplay']].head())"
   ]
  },
  {
   "cell_type": "markdown",
   "id": "75bca704",
   "metadata": {},
   "source": [
    "Ahora para finalizar guardaremos en un archivo csv los datos pero con todos los cambios antes realizados"
   ]
  },
  {
   "cell_type": "code",
   "execution_count": 11,
   "id": "d4e64bd5",
   "metadata": {},
   "outputs": [],
   "source": [
    "# Guardamos el DataFrame preprocesado en un nuevo archivo CSV\n",
    "output_path = \"dataset/p_laptops.csv\" \n",
    "df_laptops.to_csv(output_path, index=False, encoding='latin-1')"
   ]
  }
 ],
 "metadata": {
  "kernelspec": {
   "display_name": "base",
   "language": "python",
   "name": "python3"
  },
  "language_info": {
   "codemirror_mode": {
    "name": "ipython",
    "version": 3
   },
   "file_extension": ".py",
   "mimetype": "text/x-python",
   "name": "python",
   "nbconvert_exporter": "python",
   "pygments_lexer": "ipython3",
   "version": "3.12.7"
  }
 },
 "nbformat": 4,
 "nbformat_minor": 5
}
