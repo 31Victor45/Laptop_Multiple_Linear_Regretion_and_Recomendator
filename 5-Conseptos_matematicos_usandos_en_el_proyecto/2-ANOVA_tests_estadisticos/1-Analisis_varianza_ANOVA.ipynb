{
 "cells": [
  {
   "cell_type": "markdown",
   "id": "d9be956b",
   "metadata": {},
   "source": [
    "# ¿Qué es el Análisis de Varianza (ANOVA)?\n",
    "\n",
    "El Análisis de Varianza (ANOVA por sus siglas en inglés, *Analysis of Variance*) es una prueba estadística que se utiliza para comparar las medias de tres o más grupos independientes para determinar si existen diferencias estadísticamente significativas entre ellas.\n",
    "\n",
    "ANOVA nos ayuda a responder a la pregunta: \"¿Son las diferencias entre las medias de estos grupos reales, o simplemente una casualidad del muestreo?\".\n",
    "\n",
    "La idea principal es descomponer la variabilidad total de los datos en dos componentes:\n",
    "\n",
    "* **Varianza entre grupos:** La variabilidad que existe entre las medias de los diferentes grupos.\n",
    "\n",
    "* **Varianza dentro de los grupos:** La variabilidad que existe dentro de cada grupo.\n",
    "\n",
    "Si la varianza entre grupos es significativamente mayor que la varianza dentro de los grupos, podemos concluir que al menos una de las medias de los grupos es diferente.\n",
    "\n",
    "Para complementar la informacion brindada en este notebook y ver otros matices que faltaron a este recomiendo visitar [Wikipedia sobre el ANOVA](https://es.wikipedia.org/wiki/An%C3%A1lisis_de_la_varianza) para profundizar mas en lo que aqui abordamos\n",
    "\n",
    "---\n",
    "\n",
    "### La Hipótesis de ANOVA\n",
    "\n",
    "Para llevar a cabo la prueba, se establecen las siguientes hipótesis:\n",
    "\n",
    "* Hipótesis Nula: $$H_0$$ Las medias de todos los grupos son iguales. No hay un efecto significativo del factor de agrupación.\n",
    "    $$H_0: \\mu_1 = \\mu_2 = \\mu_3 = ... = \\mu_k$$\n",
    "\n",
    "* Hipótesis Alternativa: $$H_a$$ Al menos una de las medias de los grupos es diferente de las demás. El factor de agrupación sí tiene un efecto significativo.\n",
    "    $$H_a: \\text{Al menos un } \\mu_i \\text{ es diferente}$$\n",
    "\n",
    "---\n",
    "\n",
    "###  Requisitos para Aplicar ANOVA\n",
    "\n",
    "Para que los resultados del análisis de varianza sean válidos, se deben cumplir tres supuestos clave:\n",
    "\n",
    "1.  **Normalidad de los residuos:** Los residuos (las diferencias entre los valores observados y las medias de los grupos) deben seguir una distribución normal. Esto se puede verificar visualmente con un histograma o con pruebas estadísticas como la de Shapiro-Wilk.\n",
    "\n",
    "2.  **Homogeneidad de varianzas (Homoscedasticidad):** La varianza de los datos debe ser aproximadamente igual en todos los grupos. Esto significa que la dispersión de los datos dentro de cada grupo es similar. Una forma común de verificarlo es con la prueba de Levene.\n",
    "\n",
    "3.  **Independencia de las observaciones:** Las observaciones dentro de cada grupo deben ser independientes entre sí. Esto generalmente se asegura mediante el diseño experimental. Por ejemplo, los datos de un grupo no deben influir en los datos de otro.\n",
    "\n",
    "Si estos supuestos no se cumplen, los resultados del ANOVA pueden ser incorrectos. En tales casos, se pueden considerar otras pruebas no paramétricas, como la prueba de Kruskal-Wallis."
   ]
  }
 ],
 "metadata": {
  "language_info": {
   "name": "python"
  }
 },
 "nbformat": 4,
 "nbformat_minor": 5
}
