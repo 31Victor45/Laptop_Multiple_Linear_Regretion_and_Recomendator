{
 "cells": [
  {
   "cell_type": "markdown",
   "id": "fadbe185",
   "metadata": {},
   "source": [
    "# ¿Qué es el Test de Shapiro-Wilk?\n",
    "\n",
    "El **Test de Shapiro-Wilk** es una prueba de hipótesis que se utiliza para determinar si una muestra de datos proviene de una población con una distribución normal. Es una de las pruebas de normalidad más potentes y es adecuada para tamaños de muestra pequeños a moderados (generalmente hasta 5,000 observaciones).\n",
    "\n",
    "Para ver su formula y otros matices que complementan esta explicacion, puedes consultar la página de [Wikipedia sobre el Test de Shapiro-Wilk](https://es.wikipedia.org/wiki/Prueba_de_Shapiro-Wilk).\n",
    "\n",
    "En el contexto del Análisis de Varianza (ANOVA), el test de Shapiro-Wilk se utiliza para verificar si los **residuos** de nuestro modelo de regresión se distribuyen normalmente, lo cual es uno de los supuestos fundamentales de ANOVA.\n",
    "\n",
    "---\n",
    "\n",
    "###  La Hipótesis del Test de Shapiro-Wilk\n",
    "\n",
    "Al igual que en otras pruebas estadísticas, establecemos una hipótesis nula y una alternativa:\n",
    "\n",
    "* **Hipótesis Nula: $$H_0$$** La muestra de datos proviene de una población con una distribución normal.\n",
    "    $$H_0: \\text{Los datos se distribuyen normalmente}$$\n",
    "\n",
    "* **Hipótesis Alternativa: $$H_a$$** La muestra de datos no proviene de una población con una distribución normal.\n",
    "    $$H_a: \\text{Los datos no se distribuyen normalmente}$$\n",
    "\n",
    "---\n",
    "\n",
    "###  Interpretación del Resultado\n",
    "\n",
    "La interpretación de la prueba se basa en el **p-valor** obtenido:\n",
    "\n",
    "* **Si el p-valor es mayor que el nivel de significancia** (por ejemplo, $$p > 0.05$$), no tenemos suficiente evidencia para rechazar la hipótesis nula. Esto nos permite asumir que los datos se distribuyen de forma normal.\n",
    "\n",
    "* **Si el p-valor es menor que el nivel de significancia** (por ejemplo, $$p \\le 0.05$$), rechazamos la hipótesis nula. Esto indica que los datos no siguen una distribución normal.\n",
    "\n",
    "En resumen, para poder aplicar ANOVA, lo que buscamos es que el test de Shapiro-Wilk nos dé un **p-valor alto** para confirmar que los residuos se distribuyen normalmente. Si el p-valor es bajo, se incumplirá el supuesto de normalidad y deberemos considerar una alternativa al ANOVA."
   ]
  }
 ],
 "metadata": {
  "language_info": {
   "name": "python"
  }
 },
 "nbformat": 4,
 "nbformat_minor": 5
}
