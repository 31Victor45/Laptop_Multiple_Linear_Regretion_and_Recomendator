{
 "cells": [
  {
   "cell_type": "markdown",
   "id": "67a4c697",
   "metadata": {},
   "source": [
    "---\n",
    "# ¿Qué es el Test de Kruskal-Wallis?\n",
    "\n",
    "El **Test de Kruskal-Wallis** es una prueba estadística **no paramétrica** que se utiliza como una alternativa al ANOVA de un factor. Su principal objetivo es determinar si existen diferencias estadísticamente significativas en las **medianas** de tres o más grupos independientes.\n",
    "\n",
    "Es la opción preferida cuando los datos no cumplen con los supuestos del ANOVA, como la normalidad o la homogeneidad de varianzas, o cuando se trabaja con una variable dependiente de tipo ordinal. A diferencia del ANOVA que compara medias, el test de Kruskal-Wallis compara las distribuciones de los rangos de los datos.\n",
    "\n",
    "Para obterner mas informacion de este test, podemos buscarlo en [Prueba de Kruskal-Wallis](https://es.wikipedia.org/wiki/Prueba_de_Kruskal-Wallis), el cual es un articulo de Wikipedia en el que se habla de mismo\n",
    "\n",
    "---\n",
    "###  La Hipótesis del Test de Kruskal-Wallis\n",
    "\n",
    "* **Hipótesis Nula ($$H_0$$):** Las medianas de las poblaciones de todos los grupos son iguales.\n",
    "    $$H_0: \\tilde{\\mu}_1 = \\tilde{\\mu}_2 = \\tilde{\\mu}_3 = ... = \\tilde{\\mu}_k$$\n",
    "* **Hipótesis Alternativa ($$H_a$$):** Al menos una de las medianas de las poblaciones de los grupos es diferente.\n",
    "    $$H_a: \\text{Al menos un } \\tilde{\\mu}_i \\text{ es diferente}$$\n",
    "\n",
    "---\n",
    "\n",
    "### Interpretación del Resultado\n",
    "\n",
    "La interpretación de la prueba se basa en el **p-valor** obtenido:\n",
    "\n",
    "* **Si el p-valor es mayor que el nivel de significancia** (ejemplo: $$p > 0.05$$), no tenemos suficiente evidencia para rechazar la hipótesis nula ($$H_0$$). Esto significa que no hay diferencias significativas entre las medianas de los grupos.\n",
    "* **Si el p-valor es menor que el nivel de significancia** (ejemplo: $$p \\le 0.05$$), rechazamos la hipótesis nula ($$H_0$$). Esto indica que hay una diferencia estadísticamente significativa en las medianas de al menos dos de los grupos. En este caso, se necesitarían pruebas post-hoc para identificar qué grupos son diferentes.\n",
    "\n",
    "---\n",
    "###  Tabla Resumen para la toma de decisiones\n",
    "\n",
    "| Hipótesis | P-valor | Conclusión | Pasos a seguir |\n",
    "| :--- | :--- | :--- | :--- |\n",
    "| $$H_0$$ (medianas iguales) | $$p > 0.05$$ | No se rechaza la $$H_0$$. Se asume que no hay diferencias significativas. | No se pueden concluir diferencias entre los grupos. |\n",
    "| $$H_a$$ (medianas diferentes) | $$p \\le 0.05$$ | Se rechaza la $$H_0$$. Hay diferencias significativas entre al menos dos grupos. | Realizar un test post-hoc para identificar los grupos que son diferentes. |"
   ]
  }
 ],
 "metadata": {
  "language_info": {
   "name": "python"
  }
 },
 "nbformat": 4,
 "nbformat_minor": 5
}
