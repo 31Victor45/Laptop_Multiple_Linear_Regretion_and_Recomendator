{
 "cells": [
  {
   "cell_type": "markdown",
   "id": "ebf1a752",
   "metadata": {},
   "source": [
    "# ¿Por qué es importante la transformación inversa de Box-Cox en el proyecto?\n",
    "\n",
    "La transformación inversa de Box-Cox es un paso fundamental en nuestro proyecto, ya que sin ella, la predicción de precios del modelo no tendría sentido para el usuario. El modelo de regresión lineal fue entrenado con los datos de `Price_euros` ya transformados. Por lo tanto, cuando predice el precio de una nueva laptop, el valor que nos da está en la misma escala transformada, no en euros reales.\n",
    "\n",
    "La transformación inversa es el proceso de \"deshacer\" la transformación para convertir el precio predicho de vuelta a su escala original y comprensible: los euros.\n",
    "\n",
    "---\n",
    "\n",
    "###  La Fórmula de la Transformación Inversa\n",
    "\n",
    "La fórmula de la transformación inversa es el reverso matemático de la fórmula original y depende del valor del parámetro $\\lambda$ que se usó para la transformación inicial.\n",
    "\n",
    "$$\n",
    "y = \n",
    "\\begin{cases}\n",
    "(\\lambda y^{(\\lambda)} + 1)^{1/\\lambda} & \\quad \\text{si } \\lambda \\ne 0 \\\\\n",
    "e^{y^{(\\lambda)}} & \\quad \\text{si } \\lambda = 0\n",
    "\\end{cases}\n",
    "$$\n",
    "\n",
    "Donde:\n",
    "* $y$ es el valor del precio en euros que queremos obtener.\n",
    "* $y^{(\\lambda)}$ es el valor del precio predicho por el modelo en la escala transformada.\n",
    "* $\\lambda$ es el coeficiente de la transformación que se guardó previamente en el archivo `.json`.\n",
    "\n",
    "---\n",
    "\n",
    "###  La Relación con el Archivo `.json`\n",
    "\n",
    "La razón por la que guardamos los coeficientes `lambdas` en un archivo `.json` es precisamente para que la función de predicción pueda acceder a ellos. Cada variable numérica tiene su propio valor de $\\lambda$. Para obtener el precio final en euros, la función toma la predicción del modelo (en la escala transformada) y el valor de $\\lambda$ que le corresponde para aplicar la fórmula de la transformación inversa.\n",
    "\n",
    "En resumen, el archivo `.json` funciona como una \"llave\" que nos permite desbloquear los valores predichos del modelo para que sean útiles y comprensibles para el usuario."
   ]
  }
 ],
 "metadata": {
  "language_info": {
   "name": "python"
  }
 },
 "nbformat": 4,
 "nbformat_minor": 5
}
