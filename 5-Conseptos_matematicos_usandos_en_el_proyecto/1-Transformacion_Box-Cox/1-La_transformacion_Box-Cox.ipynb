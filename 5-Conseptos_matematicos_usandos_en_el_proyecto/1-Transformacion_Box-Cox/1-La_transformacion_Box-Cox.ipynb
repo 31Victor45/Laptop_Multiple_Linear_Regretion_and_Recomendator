{
 "cells": [
  {
   "cell_type": "markdown",
   "id": "32c21f74",
   "metadata": {},
   "source": [
    "# ¿Qué es la Transformación Box-Cox?\n",
    "\n",
    "La **transformación Box-Cox** es una técnica estadística utilizada para corregir la falta de linealidad, estabilizar la varianza y mejorar la normalidad de la distribución en un conjunto de datos. Su principal objetivo es hacer que los datos se ajusten mejor a los supuestos de modelos como la regresión lineal.\n",
    "\n",
    "La transformación es especialmente útil para las variables que están sesgadas (no tienen una distribución simétrica) o cuyas relaciones con otras variables no son lineales.\n",
    "\n",
    "###  La Fórmula Matemática\n",
    "\n",
    "La fórmula de la transformación Box-Cox es la siguiente:\n",
    "\n",
    "$$\n",
    "y^{(\\lambda)} = \n",
    "\\begin{cases}\n",
    "\\frac{y^\\lambda - 1}{\\lambda} & \\quad \\text{si } \\lambda \\ne 0 \\\\\n",
    "\\ln(y) & \\quad \\text{si } \\lambda = 0\n",
    "\\end{cases}\n",
    "$$\n",
    "\n",
    "Donde:\n",
    "\n",
    "* $y$ es el valor de la variable que se va a transformar.\n",
    "\n",
    "* $\\lambda$ (lambda) es el parámetro de la transformación. El mejor valor de $\\lambda$ se selecciona automáticamente para maximizar la normalidad de la distribución de los datos transformados.\n",
    "\n",
    "Un requisito clave de esta técnica es que todos los valores de la variable $y$ deben ser **estrictamente positivos** ($y > 0$).\n",
    "\n",
    "###  ¿Por qué mejora la Linealidad?\n",
    "\n",
    "Un modelo de **regresión lineal múltiple** asume que la relación entre la variable objetivo y las variables predictoras es lineal. Esto significa que si graficáramos la variable predictora contra la variable objetivo, idealmente veríamos una línea recta.\n",
    "\n",
    "Sin embargo, en el mundo real, esta relación a menudo es curva. Por ejemplo, el impacto de aumentar la **RAM** de 4GB a 8GB en el precio no es el mismo que aumentarla de 32GB a 64GB; el efecto no es constante ni lineal.\n",
    "\n",
    "La transformación Box-Cox actúa \"doblando\" o \"enderezando\" la curva de los datos. Al aplicar la fórmula, una relación no lineal se convierte en una relación que se aproxima mucho más a una línea recta. Esto permite que el modelo de regresión lineal, que busca una relación lineal, pueda capturar los patrones de los datos de manera más efectiva.\n",
    "\n",
    "En resumen, la transformación Box-Cox ajusta los datos para que sean compatibles con los supuestos del modelo, lo que conduce a:\n",
    "\n",
    "* Un mejor ajuste del modelo.\n",
    "\n",
    "* Una reducción en el error de predicción.\n",
    "\n",
    "* Predicciones más precisas y confiables."
   ]
  }
 ],
 "metadata": {
  "language_info": {
   "name": "python"
  }
 },
 "nbformat": 4,
 "nbformat_minor": 5
}
